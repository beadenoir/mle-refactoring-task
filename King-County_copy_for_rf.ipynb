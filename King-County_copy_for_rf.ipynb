{
 "cells": [
  {
   "attachments": {},
   "cell_type": "markdown",
   "metadata": {},
   "source": [
    "## Importing the Libraries\n",
    "\n",
    "\n",
    "First we will import again all the libraries we need for our future work.\n"
   ]
  },
  {
   "cell_type": "code",
   "execution_count": 2,
   "metadata": {},
   "outputs": [
    {
     "name": "stderr",
     "output_type": "stream",
     "text": [
      "/tmp/ipykernel_1046/1026800762.py:1: DeprecationWarning: \n",
      "Pyarrow will become a required dependency of pandas in the next major release of pandas (pandas 3.0),\n",
      "(to allow more performant data types, such as the Arrow string type, and better interoperability with other libraries)\n",
      "but was not found to be installed on your system.\n",
      "If this would cause problems for you,\n",
      "please provide us feedback at https://github.com/pandas-dev/pandas/issues/54466\n",
      "        \n",
      "  import pandas as pd\n"
     ]
    }
   ],
   "source": [
    "import pandas as pd\n",
    "import numpy as np\n",
    "\n",
    "\n",
    "\n",
    "from sklearn.model_selection import train_test_split\n"
   ]
  },
  {
   "cell_type": "code",
   "execution_count": 3,
   "metadata": {},
   "outputs": [],
   "source": [
    "kc_data = pd.read_csv(\"data/King_County_House_prices_dataset.csv\")"
   ]
  },
  {
   "cell_type": "code",
   "execution_count": 4,
   "metadata": {},
   "outputs": [],
   "source": [
    "kc_data.drop(15856, axis=0, inplace=True)"
   ]
  },
  {
   "cell_type": "code",
   "execution_count": 5,
   "metadata": {},
   "outputs": [],
   "source": [
    "kc_data.drop(kc_data[kc_data['bedrooms'] == 33].index, inplace = True)"
   ]
  },
  {
   "cell_type": "code",
   "execution_count": 6,
   "metadata": {},
   "outputs": [],
   "source": [
    "kc_data['sqft_basement'] = kc_data['sqft_basement'].replace('?', np.NaN)\n",
    "kc_data['sqft_basement'] = kc_data['sqft_basement'].astype(float)"
   ]
  },
  {
   "cell_type": "code",
   "execution_count": 7,
   "metadata": {},
   "outputs": [],
   "source": [
    "kc_data.eval('sqft_basement = sqft_living - sqft_above', inplace=True)"
   ]
  },
  {
   "cell_type": "code",
   "execution_count": 8,
   "metadata": {},
   "outputs": [],
   "source": [
    "kc_data.fillna({'view':0}, inplace=True)"
   ]
  },
  {
   "cell_type": "code",
   "execution_count": 9,
   "metadata": {},
   "outputs": [],
   "source": [
    "kc_data.fillna({'waterfront':0}, inplace=True)"
   ]
  },
  {
   "cell_type": "code",
   "execution_count": 10,
   "metadata": {},
   "outputs": [],
   "source": [
    "last_known_change = []\n",
    "\n",
    "for idx, yr_re in kc_data.yr_renovated.items():\n",
    "    if str(yr_re) == 'nan' or yr_re == 0.0:\n",
    "        last_known_change.append(kc_data.yr_built[idx])\n",
    "    else:\n",
    "        last_known_change.append(int(yr_re))"
   ]
  },
  {
   "cell_type": "code",
   "execution_count": 11,
   "metadata": {},
   "outputs": [],
   "source": [
    "kc_data['last_known_change'] = last_known_change"
   ]
  },
  {
   "cell_type": "code",
   "execution_count": 12,
   "metadata": {},
   "outputs": [],
   "source": [
    "kc_data.drop(\"yr_renovated\", axis=1, inplace=True)\n",
    "kc_data.drop(\"yr_built\", axis=1, inplace=True)"
   ]
  },
  {
   "cell_type": "code",
   "execution_count": 13,
   "metadata": {},
   "outputs": [],
   "source": [
    "kc_data['sqft_price'] = (kc_data.price/(kc_data.sqft_living + kc_data.sqft_lot)).round(2)"
   ]
  },
  {
   "cell_type": "code",
   "execution_count": 14,
   "metadata": {},
   "outputs": [],
   "source": [
    "kc_data['delta_lat'] = np.absolute(47.62774- kc_data['lat'])\n",
    "kc_data['delta_long'] = np.absolute(-122.24194-kc_data['long'])\n",
    "kc_data['center_distance']= ((kc_data['delta_long']* np.cos(np.radians(47.6219)))**2 \n",
    "                                   + kc_data['delta_lat']**2)**(1/2)*2*np.pi*6378/360"
   ]
  },
  {
   "cell_type": "code",
   "execution_count": 15,
   "metadata": {},
   "outputs": [],
   "source": [
    "def dist(long, lat, ref_long, ref_lat):\n",
    "    '''dist computes the distance in km to a reference location. Input: long and lat of \n",
    "    the location of interest and ref_long and ref_lat as the long and lat of the reference location'''\n",
    "    delta_long = long - ref_long\n",
    "    delta_lat = lat - ref_lat\n",
    "    delta_long_corr = delta_long * np.cos(np.radians(ref_lat))\n",
    "    return ((delta_long_corr)**2 +(delta_lat)**2)**(1/2)*2*np.pi*6378/360"
   ]
  },
  {
   "cell_type": "code",
   "execution_count": 16,
   "metadata": {},
   "outputs": [],
   "source": [
    "water_list= kc_data.query('waterfront == 1')\n"
   ]
  },
  {
   "cell_type": "code",
   "execution_count": 17,
   "metadata": {},
   "outputs": [],
   "source": [
    "water_distance = []\n",
    "for idx, lat in kc_data.lat.items():\n",
    "    ref_list = []\n",
    "    for x,y in zip(list(water_list.long), list(water_list.lat)):\n",
    "        ref_list.append(dist(kc_data.long[idx], kc_data.lat[idx],x,y).min())\n",
    "    water_distance.append(min(ref_list))"
   ]
  },
  {
   "cell_type": "code",
   "execution_count": 18,
   "metadata": {},
   "outputs": [],
   "source": [
    "kc_data['water_distance'] = water_distance"
   ]
  },
  {
   "cell_type": "markdown",
   "metadata": {},
   "source": [
    "## Prepare columns and datatypes for Pydantic model"
   ]
  },
  {
   "cell_type": "code",
   "execution_count": 19,
   "metadata": {},
   "outputs": [
    {
     "data": {
      "text/plain": [
       "Index(['id', 'date', 'price', 'bedrooms', 'bathrooms', 'sqft_living',\n",
       "       'sqft_lot', 'floors', 'waterfront', 'view', 'condition', 'grade',\n",
       "       'sqft_above', 'sqft_basement', 'zipcode', 'lat', 'long',\n",
       "       'sqft_living15', 'sqft_lot15', 'last_known_change', 'sqft_price',\n",
       "       'delta_lat', 'delta_long', 'center_distance', 'water_distance'],\n",
       "      dtype='object')"
      ]
     },
     "execution_count": 19,
     "metadata": {},
     "output_type": "execute_result"
    }
   ],
   "source": [
    "kc_data.columns"
   ]
  },
  {
   "cell_type": "code",
   "execution_count": 20,
   "metadata": {},
   "outputs": [
    {
     "name": "stdout",
     "output_type": "stream",
     "text": [
      "<class 'pandas.core.frame.DataFrame'>\n",
      "Index: 21596 entries, 0 to 21596\n",
      "Data columns (total 25 columns):\n",
      " #   Column             Non-Null Count  Dtype  \n",
      "---  ------             --------------  -----  \n",
      " 0   id                 21596 non-null  int64  \n",
      " 1   date               21596 non-null  object \n",
      " 2   price              21596 non-null  float64\n",
      " 3   bedrooms           21596 non-null  int64  \n",
      " 4   bathrooms          21596 non-null  float64\n",
      " 5   sqft_living        21596 non-null  int64  \n",
      " 6   sqft_lot           21596 non-null  int64  \n",
      " 7   floors             21596 non-null  float64\n",
      " 8   waterfront         21596 non-null  float64\n",
      " 9   view               21596 non-null  float64\n",
      " 10  condition          21596 non-null  int64  \n",
      " 11  grade              21596 non-null  int64  \n",
      " 12  sqft_above         21596 non-null  int64  \n",
      " 13  sqft_basement      21596 non-null  float64\n",
      " 14  zipcode            21596 non-null  int64  \n",
      " 15  lat                21596 non-null  float64\n",
      " 16  long               21596 non-null  float64\n",
      " 17  sqft_living15      21596 non-null  int64  \n",
      " 18  sqft_lot15         21596 non-null  int64  \n",
      " 19  last_known_change  21596 non-null  int64  \n",
      " 20  sqft_price         21596 non-null  float64\n",
      " 21  delta_lat          21596 non-null  float64\n",
      " 22  delta_long         21596 non-null  float64\n",
      " 23  center_distance    21596 non-null  float64\n",
      " 24  water_distance     21596 non-null  float64\n",
      "dtypes: float64(13), int64(11), object(1)\n",
      "memory usage: 4.8+ MB\n"
     ]
    }
   ],
   "source": [
    "kc_data.info()"
   ]
  },
  {
   "cell_type": "code",
   "execution_count": 21,
   "metadata": {},
   "outputs": [
    {
     "name": "stdout",
     "output_type": "stream",
     "text": [
      "{'id': 4027701265, 'date': '5/1/2015', 'price': 480000.0, 'bedrooms': 3, 'bathrooms': 1.75, 'sqft_living': 2920, 'sqft_lot': 21375, 'floors': 1.0, 'waterfront': 0.0, 'view': 0.0, 'condition': 3, 'grade': 8, 'sqft_above': 1850, 'sqft_basement': 1070.0, 'zipcode': 98028, 'lat': 47.7666, 'long': -122.265, 'sqft_living15': 1540, 'sqft_lot15': 8482, 'last_known_change': 1961, 'sqft_price': 19.76, 'delta_lat': 0.138859999999994, 'delta_long': 0.02306000000000097, 'center_distance': 15.55402307333386, 'water_distance': 1.2521118454744993}\n",
      "{'id': 322059049, 'date': '10/3/2014', 'price': 295000.0, 'bedrooms': 2, 'bathrooms': 1.0, 'sqft_living': 820, 'sqft_lot': 288367, 'floors': 1.0, 'waterfront': 0.0, 'view': 0.0, 'condition': 3, 'grade': 6, 'sqft_above': 820, 'sqft_basement': 0.0, 'zipcode': 98042, 'lat': 47.4196, 'long': -122.165, 'sqft_living15': 1580, 'sqft_lot15': 8154, 'last_known_change': 1930, 'sqft_price': 1.02, 'delta_lat': 0.2081400000000002, 'delta_long': 0.07693999999999335, 'center_distance': 23.877875022947446, 'water_distance': 10.124694118253943}\n",
      "{'id': 6840701160, 'date': '10/29/2014', 'price': 680000.0, 'bedrooms': 5, 'bathrooms': 2.0, 'sqft_living': 2140, 'sqft_lot': 5000, 'floors': 1.5, 'waterfront': 0.0, 'view': 0.0, 'condition': 4, 'grade': 7, 'sqft_above': 2020, 'sqft_basement': 120.0, 'zipcode': 98122, 'lat': 47.6044, 'long': -122.299, 'sqft_living15': 1810, 'sqft_lot15': 4400, 'last_known_change': 1913, 'sqft_price': 95.24, 'delta_lat': 0.02334000000000458, 'delta_long': 0.057060000000006994, 'center_distance': 5.007902993942828, 'water_distance': 1.601973452807871}\n",
      "{'id': 1026069061, 'date': '1/29/2015', 'price': 682000.0, 'bedrooms': 4, 'bathrooms': 2.5, 'sqft_living': 3600, 'sqft_lot': 203425, 'floors': 2.0, 'waterfront': 0.0, 'view': 0.0, 'condition': 3, 'grade': 9, 'sqft_above': 3400, 'sqft_basement': 200.0, 'zipcode': 98077, 'lat': 47.7597, 'long': -122.018, 'sqft_living15': 3150, 'sqft_lot15': 202989, 'last_known_change': 1979, 'sqft_price': 3.29, 'delta_lat': 0.1319599999999994, 'delta_long': 0.22393999999999892, 'center_distance': 22.31799370802972, 'water_distance': 13.69394229185454}\n"
     ]
    }
   ],
   "source": [
    "seed = 18\n",
    "houses = kc_data.sample(4, random_state=seed).to_dict('index')\n",
    "for house in houses.values():\n",
    "    print(house)"
   ]
  },
  {
   "cell_type": "code",
   "execution_count": 22,
   "metadata": {},
   "outputs": [
    {
     "name": "stdout",
     "output_type": "stream",
     "text": [
      "curl -X POST http://localhost:8100/houses -H \"Content-Type: application/json\" -d \"{'id': 4027701265, 'date': '5/1/2015', 'price': 480000.0, 'bedrooms': 3, 'bathrooms': 1.75, 'sqft_living': 2920, 'sqft_lot': 21375, 'floors': 1.0, 'waterfront': 0.0, 'view': 0.0, 'condition': 3, 'grade': 8, 'sqft_above': 1850, 'sqft_basement': 1070.0, 'zipcode': 98028, 'lat': 47.7666, 'long': -122.265, 'sqft_living15': 1540, 'sqft_lot15': 8482, 'last_known_change': 1961, 'sqft_price': 19.76, 'delta_lat': 0.138859999999994, 'delta_long': 0.02306000000000097, 'center_distance': 15.55402307333386, 'water_distance': 1.2521118454744993}\"\n",
      "curl -X POST http://localhost:8100/houses -H \"Content-Type: application/json\" -d \"{'id': 322059049, 'date': '10/3/2014', 'price': 295000.0, 'bedrooms': 2, 'bathrooms': 1.0, 'sqft_living': 820, 'sqft_lot': 288367, 'floors': 1.0, 'waterfront': 0.0, 'view': 0.0, 'condition': 3, 'grade': 6, 'sqft_above': 820, 'sqft_basement': 0.0, 'zipcode': 98042, 'lat': 47.4196, 'long': -122.165, 'sqft_living15': 1580, 'sqft_lot15': 8154, 'last_known_change': 1930, 'sqft_price': 1.02, 'delta_lat': 0.2081400000000002, 'delta_long': 0.07693999999999335, 'center_distance': 23.877875022947446, 'water_distance': 10.124694118253943}\"\n",
      "curl -X POST http://localhost:8100/houses -H \"Content-Type: application/json\" -d \"{'id': 6840701160, 'date': '10/29/2014', 'price': 680000.0, 'bedrooms': 5, 'bathrooms': 2.0, 'sqft_living': 2140, 'sqft_lot': 5000, 'floors': 1.5, 'waterfront': 0.0, 'view': 0.0, 'condition': 4, 'grade': 7, 'sqft_above': 2020, 'sqft_basement': 120.0, 'zipcode': 98122, 'lat': 47.6044, 'long': -122.299, 'sqft_living15': 1810, 'sqft_lot15': 4400, 'last_known_change': 1913, 'sqft_price': 95.24, 'delta_lat': 0.02334000000000458, 'delta_long': 0.057060000000006994, 'center_distance': 5.007902993942828, 'water_distance': 1.601973452807871}\"\n",
      "curl -X POST http://localhost:8100/houses -H \"Content-Type: application/json\" -d \"{'id': 1026069061, 'date': '1/29/2015', 'price': 682000.0, 'bedrooms': 4, 'bathrooms': 2.5, 'sqft_living': 3600, 'sqft_lot': 203425, 'floors': 2.0, 'waterfront': 0.0, 'view': 0.0, 'condition': 3, 'grade': 9, 'sqft_above': 3400, 'sqft_basement': 200.0, 'zipcode': 98077, 'lat': 47.7597, 'long': -122.018, 'sqft_living15': 3150, 'sqft_lot15': 202989, 'last_known_change': 1979, 'sqft_price': 3.29, 'delta_lat': 0.1319599999999994, 'delta_long': 0.22393999999999892, 'center_distance': 22.31799370802972, 'water_distance': 13.69394229185454}\"\n"
     ]
    }
   ],
   "source": [
    "seed = 18\n",
    "houses = kc_data.sample(4, random_state=seed).to_dict('index')\n",
    "for house in houses.values():\n",
    "    print(f'curl -X POST http://localhost:8100/houses -H \"Content-Type: application/json\" -d \"{house}\"')"
   ]
  },
  {
   "cell_type": "code",
   "execution_count": 23,
   "metadata": {},
   "outputs": [
    {
     "name": "stdout",
     "output_type": "stream",
     "text": [
      "{'id': 4027701265, 'bedrooms': 3, 'sqft_living': 2920, 'center_distance': 15.55402307333386, 'price': 480000.0}\n",
      "{'id': 322059049, 'bedrooms': 2, 'sqft_living': 820, 'center_distance': 23.877875022947446, 'price': 295000.0}\n",
      "{'id': 6840701160, 'bedrooms': 5, 'sqft_living': 2140, 'center_distance': 5.007902993942828, 'price': 680000.0}\n",
      "{'id': 1026069061, 'bedrooms': 4, 'sqft_living': 3600, 'center_distance': 22.31799370802972, 'price': 682000.0}\n"
     ]
    }
   ],
   "source": [
    "list_5features = ['id', 'bedrooms', 'sqft_living', 'center_distance', 'price']\n",
    "house_list = []\n",
    "for house in houses.values():\n",
    "    houses_5features = {key: house[key] for key in list_5features}\n",
    "    house_list.append(houses_5features)\n",
    "    print(houses_5features)"
   ]
  },
  {
   "cell_type": "code",
   "execution_count": 29,
   "metadata": {},
   "outputs": [
    {
     "name": "stdout",
     "output_type": "stream",
     "text": [
      "curl -X POST http://localhost:8100/houses -H \"Content-Type: application/json\" -d '{\"id\": 4027701265, \"bedrooms\": 3, \"sqft_living\": 2920, \"center_distance\": 15.55402307333386, \"price\": 480000.0}'\n",
      "curl -X POST http://localhost:8100/houses -H \"Content-Type: application/json\" -d '{\"id\": 322059049, \"bedrooms\": 2, \"sqft_living\": 820, \"center_distance\": 23.877875022947446, \"price\": 295000.0}'\n",
      "curl -X POST http://localhost:8100/houses -H \"Content-Type: application/json\" -d '{\"id\": 6840701160, \"bedrooms\": 5, \"sqft_living\": 2140, \"center_distance\": 5.007902993942828, \"price\": 680000.0}'\n",
      "curl -X POST http://localhost:8100/houses -H \"Content-Type: application/json\" -d '{\"id\": 1026069061, \"bedrooms\": 4, \"sqft_living\": 3600, \"center_distance\": 22.31799370802972, \"price\": 682000.0}'\n"
     ]
    }
   ],
   "source": [
    "import json\n",
    "list_5features = ['id', 'bedrooms', 'sqft_living', 'center_distance', 'price']\n",
    "house_list = []\n",
    "for house in houses.values():\n",
    "    houses_5features = {key: house[key] for key in list_5features}\n",
    "    house_json = json.dumps(houses_5features)\n",
    "    print(f\"curl -X POST http://localhost:8100/houses -H \\\"Content-Type: application/json\\\" -d '{house_json}'\")"
   ]
  },
  {
   "cell_type": "code",
   "execution_count": 25,
   "metadata": {},
   "outputs": [
    {
     "ename": "IndexError",
     "evalue": "list index out of range",
     "output_type": "error",
     "traceback": [
      "\u001b[0;31m---------------------------------------------------------------------------\u001b[0m",
      "\u001b[0;31mIndexError\u001b[0m                                Traceback (most recent call last)",
      "Cell \u001b[0;32mIn[25], line 1\u001b[0m\n\u001b[0;32m----> 1\u001b[0m house1_json \u001b[38;5;241m=\u001b[39m json\u001b[38;5;241m.\u001b[39mdumps(\u001b[43mhouse_list\u001b[49m\u001b[43m[\u001b[49m\u001b[38;5;241;43m3\u001b[39;49m\u001b[43m]\u001b[49m, indent\u001b[38;5;241m=\u001b[39m\u001b[38;5;241m4\u001b[39m)\n\u001b[1;32m      2\u001b[0m \u001b[38;5;28mprint\u001b[39m(house1_json)\n",
      "\u001b[0;31mIndexError\u001b[0m: list index out of range"
     ]
    }
   ],
   "source": [
    "\n",
    "\n",
    "house1_json = json.dumps(house_list[3], indent=4)\n",
    "print(house1_json)\n"
   ]
  },
  {
   "cell_type": "markdown",
   "metadata": {},
   "source": [
    "final columns are converted to pydantic model [here](https://jsontopydantic.com/)"
   ]
  },
  {
   "cell_type": "code",
   "execution_count": null,
   "metadata": {},
   "outputs": [],
   "source": [
    "from __future__ import annotations\n",
    "\n",
    "from pydantic import BaseModel\n",
    "\n",
    "\n",
    "class Model(BaseModel):\n",
    "    id: int\n",
    "    bedrooms: int\n",
    "    sqft_living: int\n",
    "    center_distance: float\n",
    "    price: float\n"
   ]
  },
  {
   "cell_type": "code",
   "execution_count": null,
   "metadata": {},
   "outputs": [],
   "source": [
    "# use of pydantic model for data validation of sampled houses\n",
    "class DataValidation(BaseModel):\n",
    "    id: int\n",
    "    bedrooms: int\n",
    "    sqft_living: int\n",
    "    center_distance: float\n",
    "    price: float\n",
    "\n",
    "for house in house_list:\n",
    "    DataValidation(**house)"
   ]
  },
  {
   "cell_type": "markdown",
   "metadata": {},
   "source": [
    "columns dropped before modelling"
   ]
  },
  {
   "cell_type": "code",
   "execution_count": null,
   "metadata": {},
   "outputs": [],
   "source": [
    "drop_lst = ['price', 'sqft_price', 'date', 'delta_lat', 'delta_long',]"
   ]
  },
  {
   "cell_type": "code",
   "execution_count": null,
   "metadata": {},
   "outputs": [],
   "source": [
    "all_features = [x for x in kc_data.columns if x not in drop_lst]"
   ]
  },
  {
   "cell_type": "code",
   "execution_count": null,
   "metadata": {},
   "outputs": [],
   "source": [
    "X = kc_data[all_features]"
   ]
  },
  {
   "cell_type": "code",
   "execution_count": null,
   "metadata": {},
   "outputs": [],
   "source": [
    "y = kc_data.price"
   ]
  },
  {
   "cell_type": "code",
   "execution_count": null,
   "metadata": {},
   "outputs": [],
   "source": [
    "X_train, X_test, y_train, y_test = train_test_split(X, y, test_size=0.3, random_state=42)"
   ]
  }
 ],
 "metadata": {
  "kernelspec": {
   "display_name": "Python 3.9.8 ('.venv': venv)",
   "language": "python",
   "name": "python3"
  },
  "language_info": {
   "codemirror_mode": {
    "name": "ipython",
    "version": 3
   },
   "file_extension": ".py",
   "mimetype": "text/x-python",
   "name": "python",
   "nbconvert_exporter": "python",
   "pygments_lexer": "ipython3",
   "version": "3.11.3"
  },
  "vscode": {
   "interpreter": {
    "hash": "fb7e7bd19e6b082abfa5136f7b755936d5cc9a5dcc8aebb1a765dc8cdd06fcd4"
   }
  }
 },
 "nbformat": 4,
 "nbformat_minor": 4
}
